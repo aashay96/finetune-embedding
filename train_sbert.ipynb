{
 "cells": [
  {
   "cell_type": "code",
   "execution_count": 1,
   "id": "c74699a0-3c0c-4bb5-8c66-ff1d7c23ba8a",
   "metadata": {},
   "outputs": [],
   "source": [
    "import json\n",
    "\n",
    "from llama_index import SimpleDirectoryReader\n",
    "from llama_index.node_parser import SimpleNodeParser\n",
    "from llama_index.schema import MetadataMode"
   ]
  },
  {
   "cell_type": "code",
   "execution_count": 6,
   "id": "d555d386-b73f-4b28-a856-ff6e1a74ccca",
   "metadata": {},
   "outputs": [],
   "source": [
    "import glob\n",
    "\n",
    "all_documents = glob.glob('../Downloads/mca_dataset/*.pdf') + glob.glob('../Downloads/mca_dataset/*/*.pdf')"
   ]
  },
  {
   "cell_type": "code",
   "execution_count": null,
   "id": "b328535d-6afb-4235-aa73-72eff53a886b",
   "metadata": {},
   "outputs": [],
   "source": [
    "import openai\n",
    "\n",
    "openai."
   ]
  },
  {
   "cell_type": "code",
   "execution_count": 15,
   "id": "7245bc51-dcee-4ea8-a588-eb673d1e4074",
   "metadata": {},
   "outputs": [],
   "source": [
    "TRAIN_FILES = all_documents[:-6]\n",
    "VAL_FILES = all_documents[-5:]\n",
    "\n",
    "TRAIN_CORPUS_FPATH = \"./data/train_corpus.json\"\n",
    "VAL_CORPUS_FPATH = \"./data/val_corpus.json\""
   ]
  },
  {
   "cell_type": "code",
   "execution_count": 16,
   "id": "9c9fbedb-22d5-4b2f-b436-5624bc0167d4",
   "metadata": {},
   "outputs": [],
   "source": [
    "def load_corpus(files, verbose=False):\n",
    "    if verbose:\n",
    "        print(f\"Loading files {files}\")\n",
    "\n",
    "    reader = SimpleDirectoryReader(input_files=files)\n",
    "    docs = reader.load_data()\n",
    "    if verbose:\n",
    "        print(f\"Loaded {len(docs)} docs\")\n",
    "\n",
    "    parser = SimpleNodeParser.from_defaults()\n",
    "    nodes = parser.get_nodes_from_documents(docs, show_progress=verbose)\n",
    "\n",
    "    if verbose:\n",
    "        print(f\"Parsed {len(nodes)} nodes\")\n",
    "\n",
    "    return nodes"
   ]
  },
  {
   "cell_type": "code",
   "execution_count": 17,
   "id": "2cf20984-3cdc-4b7f-b3ba-2350a2f9ef5d",
   "metadata": {
    "scrolled": true
   },
   "outputs": [
    {
     "name": "stdout",
     "output_type": "stream",
     "text": [
      "Loading files ['../Downloads/mca_dataset/List_of_companies_from_FTOK.pdf', '../Downloads/mca_dataset/DisqualifiedDirectorsMumbai_08092020.pdf', '../Downloads/mca_dataset/AnnualReport05English_07012020.pdf', '../Downloads/mca_dataset/Corrigendum1819_19062018.pdf', '../Downloads/mca_dataset/8th-AR-English-20221221.pdf', '../Downloads/mca_dataset/ANDHRAPRADESH-20230809.pdf', '../Downloads/mca_dataset/Innovation_Action_Plan_2014-15.pdf', '../Downloads/mca_dataset/MLMCompanies.pdf', '../Downloads/mca_dataset/RFD_21Nov2010.pdf', '../Downloads/mca_dataset/CBIRC Report_23112021.pdf', '../Downloads/mca_dataset/NOTICE-UNDER-RULE-37(3)-20230822.pdf', '../Downloads/mca_dataset/RTIAppeal_23082021.pdf', '../Downloads/mca_dataset/7thAnnualReport_20220209.pdf', '../Downloads/mca_dataset/Nbfc_Companies.pdf', '../Downloads/mca_dataset/Assam_company_1.pdf', '../Downloads/mca_dataset/MIB_January-2023-20230301.pdf', '../Downloads/mca_dataset/Form_23AC-XBRL_help.pdf', '../Downloads/mca_dataset/List_of_companies_from_RTOZ.pdf', '../Downloads/mca_dataset/List_of_companies_from_ATOE.pdf', '../Downloads/mca_dataset/RTIAppeal_11022021.pdf', '../Downloads/mca_dataset/MIB-December-2022-20230118.pdf', '../Downloads/mca_dataset/Bihar_company_1.pdf', '../Downloads/mca_dataset/expertgrpReportNidhis.pdf', '../Downloads/mca_dataset/RFD_2013-14.pdf', '../Downloads/mca_dataset/OfficeOrderRTI_12072019.pdf', '../Downloads/mca_dataset/NewsLetter-April-2023-20230519.pdf', '../Downloads/mca_dataset/Chit_Fund_Companies.pdf', '../Downloads/mca_dataset/MIB-August-2022-20220920.pdf', '../Downloads/mca_dataset/RTIManualKerala_30092021.pdf', '../Downloads/mca_dataset/SSA_Final executed version.pdf', '../Downloads/mca_dataset/Shri Niranjan Ayurved Bhawan.pdf', '../Downloads/mca_dataset/MIB-July-2022-20220920.pdf', '../Downloads/mca_dataset/WIN 91_.pdf', '../Downloads/mca_dataset/Form_PAS-4.pdf', '../Downloads/mca_dataset/AnnualReport4Workability_19022019.pdf', '../Downloads/mca_dataset/DDG-2023-24-with-corrigendum-20230425.pdf', '../Downloads/mca_dataset/List_of_LLPs_from_LTOQ.pdf', '../Downloads/mca_dataset/Form_23AC-XBRL.pdf', '../Downloads/mca_dataset/MIB-September-2022-20221109.pdf', '../Downloads/mca_dataset/Plantation_Companies.pdf', '../Downloads/mca_dataset/Gravity-Infracon-India-Private-Limited-20230824.pdf', '../Downloads/mca_dataset/RFD_10Aug2012.pdf', '../Downloads/mca_dataset/ProvisionsTable_CompAct.pdf', '../Downloads/mca_dataset/LLPPublicationSrike_02022018.pdf', '../Downloads/mca_dataset/Strikeoff_28112019.pdf', '../Downloads/mca_dataset/Vepa_Kamesam_Report_22Sept2009.pdf', '../Downloads/mca_dataset/NewsLetter-June-20230731.pdf', '../Downloads/mca_dataset/Execution Version - Share Subscription Agreement - Aasaanjobs - October 21 2015 (CLEAN).pdf', '../Downloads/mca_dataset/Newsletter September_2022-20221017.pdf', '../Downloads/mca_dataset/AnnualReport06English_16032021.pdf', '../Downloads/mca_dataset/Schedulers - Additional Investment Agreement (Final Draft - Clean).pdf', '../Downloads/mca_dataset/HLC_report_05102015.pdf', '../Downloads/mca_dataset/ROC Uttarakhand AGM extension notification.pdf', '../Downloads/mca_dataset/News-Letter-Jan-2023-20230220.pdf', '../Downloads/mca_dataset/Madhya_Pradesh_company_1.pdf', '../Downloads/mca_dataset/List_of_companies_from_LTOQ.pdf', '../Downloads/mca_dataset/List_of_other_companies.pdf', '../Downloads/mca_dataset/SINGH-PACKWELL-20230822.pdf', '../Downloads/mca_dataset/Newsletter-Feb-2023-20230221.pdf', '../Downloads/mca_dataset/REPORT-OF-CBIRC-II-on-Group-Insolvency-20230118.pdf', '../Downloads/mca_dataset/reportsaba.pdf', '../Downloads/mca_dataset/Chandigarh_company_1.pdf', '../Downloads/mca_dataset/OUTCOME_BUDGET-14-15.pdf', '../Downloads/mca_dataset/Producer_Company.pdf', '../Downloads/mca_dataset/News-Letter-May-20230630.pdf', '../Downloads/mca_dataset/Andhra_Pradesh_company_1.pdf', '../Downloads/mca_dataset/WIN 95_.pdf', '../Downloads/mca_dataset/Companies Act 2013 as amended upto 01.04.2021_.pdf', '../Downloads/mca_dataset/List_of_LLPs_from_ATOE.pdf', '../Downloads/mca_dataset/Form_DPT-1.pdf', '../Downloads/mca_dataset/RTIMANUAL_01072020.pdf', '../Downloads/mca_dataset/Execution Version - Share Holders Agreement - Aasaanjobs - October 21 2015 (CLEAN).pdf', '../Downloads/mca_dataset/Grant-in-aid-released-20220630.pdf', '../Downloads/mca_dataset/STK-7_HR-20230720.pdf', '../Downloads/mca_dataset/RFD_2014-15.pdf', '../Downloads/mca_dataset/RocRanchiDisqDirList_15092021.pdf', '../Downloads/mca_dataset/Form-20B_help/Form_20B.pdf', '../Downloads/mca_dataset/Form-20B_help/Form-20B_help.pdf', '../Downloads/mca_dataset/Form-ADT-1-help/Form_ADT-1.pdf', '../Downloads/mca_dataset/Form-ADT-1-help/Instruction_Kit_eForm ADT-1.pdf', '../Downloads/mca_dataset/Form-66_help/Form-66.pdf', '../Downloads/mca_dataset/Form-66_help/Form-66_help.pdf', '../Downloads/mca_dataset/Form_MGT-7_help/Form_MGT_7.pdf', '../Downloads/mca_dataset/Form_MGT-7_help/Form_MGT-7_help.pdf', '../Downloads/mca_dataset/Form_23ACA-XBRL_help/Form_23ACA-XBRL.pdf', '../Downloads/mca_dataset/Form_23ACA-XBRL_help/Form_23ACA-XBRL_help.pdf', '../Downloads/mca_dataset/Form-MGT-7A-help/Form_MGT_7A.pdf', '../Downloads/mca_dataset/Form-MGT-7A-help/Form_MGT-7A_help.pdf', '../Downloads/mca_dataset/Form-GNL-1-help/Form_GNL-1_help.pdf', '../Downloads/mca_dataset/Form-GNL-1-help/Form_GNL-1.pdf', '../Downloads/mca_dataset/Form_MGT-6_help/Form_MGT-6.pdf', '../Downloads/mca_dataset/Form_MGT-6_help/Instruction_Kit_eForm MGT_6.pdf', '../Downloads/mca_dataset/Form-23B_help/Form-23B_help.pdf', '../Downloads/mca_dataset/Form-23B_help/Form-23B.pdf', '../Downloads/mca_dataset/Form_MGT-15_help/Instruction_Kit_eForm MGT-15.pdf', '../Downloads/mca_dataset/Form_MGT-15_help/Form_MGT-15.pdf', '../Downloads/mca_dataset/Form-23AC_help/Form_23AC.pdf', '../Downloads/mca_dataset/Form-23AC_help/Form-23AC_help.pdf', '../Downloads/mca_dataset/Form-23AC_help/Form-23AC_ADDITIONAL_ATTACHMENT.pdf', '../Downloads/mca_dataset/Form_RD_GNL-5_help/Instruction Kit_ eForm_RD_GNL-5.pdf', '../Downloads/mca_dataset/Form_RD_GNL-5_help/Form_RDGNL-5.pdf', '../Downloads/mca_dataset/Form-MSME-help/Form_MSME.pdf', '../Downloads/mca_dataset/Form-MSME-help/MSME_Help.pdf', '../Downloads/mca_dataset/Form_Reply_To_Call_for_Information_on_CSR_Help/Form_Reply_To_Call_for_Information_on_CSR.pdf', '../Downloads/mca_dataset/Form_Reply_To_Call_for_Information_on_CSR_Help/Instruction_Kit_eForm_Reply to Call For Information on CSR.pdf', '../Downloads/mca_dataset/Form-INC-22A-help/Form_INC-22A.pdf', '../Downloads/mca_dataset/Form-INC-22A-help/Form_INC-22A_ACTIVE_ Help.pdf', '../Downloads/mca_dataset/Form_I-XBRL_help/Form_I-XBRL_help.pdf', '../Downloads/mca_dataset/Form_I-XBRL_help/Form_I-XBRL.pdf', '../Downloads/mca_dataset/Form_23ACA-XBRL_help 2/Form_23ACA-XBRL.pdf', '../Downloads/mca_dataset/Form_23ACA-XBRL_help 2/Form_23ACA-XBRL_help.pdf', '../Downloads/mca_dataset/Form-AOC-4-help/Form_AOC-4_help.pdf', '../Downloads/mca_dataset/Form-AOC-4-help/Form_Additional_Attachment.pdf', '../Downloads/mca_dataset/Form-AOC-4-help/Form_AOC-4.pdf', '../Downloads/mca_dataset/Form_A-XBRL_help/Form_A-XBRL_help.pdf', '../Downloads/mca_dataset/Form_A-XBRL_help/Form_A-XBRL.pdf', '../Downloads/mca_dataset/Form-CSR-1-help/CSR-1_HelpKit.pdf', '../Downloads/mca_dataset/Form-CSR-1-help/Form_CSR-1.pdf', '../Downloads/mca_dataset/Form-REFUND-help/Form_REFUND_help.pdf', '../Downloads/mca_dataset/Form-REFUND-help/Form_REFUND.pdf', '../Downloads/mca_dataset/Form_23D_help/Form_23D_help.pdf', '../Downloads/mca_dataset/Form_23D_help/Form_23D.pdf', '../Downloads/mca_dataset/Form_CRL1_help/Form_CRL-1.pdf', '../Downloads/mca_dataset/Form_CRL1_help/Form_CRL-1_help.pdf', '../Downloads/mca_dataset/Form-AOC-4_NBFC_help/Help Kit_AoC-4 NBFC.pdf', '../Downloads/mca_dataset/Form-AOC-4_NBFC_help/Form_AOC4_NBFC.pdf', '../Downloads/mca_dataset/Form-AOC-4_NBFC_help/Form_AOC4NBFC_Additional_Attachment.pdf', '../Downloads/mca_dataset/Form-23ACA_help/Form_23ACA.pdf', '../Downloads/mca_dataset/Form-23ACA_help/Form-23ACA_help.pdf', '../Downloads/mca_dataset/Form-21A_help/Form-21A_help.pdf', '../Downloads/mca_dataset/Form-21A_help/Form-21A.pdf', '../Downloads/mca_dataset/Form_ADT-3_help/Form_ADT-3.pdf', '../Downloads/mca_dataset/Form_ADT-3_help/Form_ADT-3_help.pdf', '../Downloads/mca_dataset/Form_CRA-4_help/Form_CRA-4_help.pdf', '../Downloads/mca_dataset/Form_CRA-4_help/Form_CRA-4.pdf', '../Downloads/mca_dataset/Form_FTE_help/Form_FTE_help.pdf', '../Downloads/mca_dataset/Form_FTE_help/Form_FTE.pdf', '../Downloads/mca_dataset/Form_AOC-4_CFS_NBFC(Ind_AS)_help/Help Kit_AoC-4 CFS NBFC.pdf', '../Downloads/mca_dataset/Form_AOC-4_CFS_NBFC(Ind_AS)_help/Form_AOC-4CFS_NBFC.pdf', '../Downloads/mca_dataset/Form_AOC-4_CFS_help/Form_AOC4-CFS.pdf', '../Downloads/mca_dataset/Form_AOC-4_CFS_help/Form_AOC4_CFS_help.pdf', '../Downloads/mca_dataset/Form_INC3_help/Form_INC-3_help.pdf', '../Downloads/mca_dataset/Form_INC3_help/Form_INC-3.pdf', '../Downloads/mca_dataset/Form_SCP_help/Form_SCP_help.pdf', '../Downloads/mca_dataset/Form_SCP_help/Form_SCP.pdf', '../Downloads/mca_dataset/Form-AOC-4-XBRL-help/Form_AOC-4_XBLR.pdf', '../Downloads/mca_dataset/Form-AOC-4-XBRL-help/Form_AOC-4_XBRL_help.pdf', '../Downloads/mca_dataset/Form_ICP_help/Form_ICP_help.pdf', '../Downloads/mca_dataset/Form_ICP_help/Form_ICP.pdf', '../Downloads/mca_dataset/Form_23C_help/Form_23C_help.pdf', '../Downloads/mca_dataset/Form_23C_help/Form_23C.pdf']\n"
     ]
    },
    {
     "name": "stderr",
     "output_type": "stream",
     "text": [
      "Overwriting cache for 0 7686\n",
      "Multiple definitions in dictionary at byte 0x5ca15 for key /Info\n",
      "Multiple definitions in dictionary at byte 0x5ca21 for key /Info\n",
      "Multiple definitions in dictionary at byte 0x5ca2d for key /Info\n",
      "incorrect startxref pointer(3)\n"
     ]
    },
    {
     "name": "stdout",
     "output_type": "stream",
     "text": [
      "Loaded 5259 docs\n"
     ]
    },
    {
     "name": "stderr",
     "output_type": "stream",
     "text": [
      "/Users/aashaysachdeva/anaconda3/envs/dl_py38/lib/python3.11/site-packages/tqdm/auto.py:21: TqdmWarning: IProgress not found. Please update jupyter and ipywidgets. See https://ipywidgets.readthedocs.io/en/stable/user_install.html\n",
      "  from .autonotebook import tqdm as notebook_tqdm\n",
      "Parsing documents into nodes: 100%|████████| 5259/5259 [00:16<00:00, 313.11it/s]\n"
     ]
    },
    {
     "name": "stdout",
     "output_type": "stream",
     "text": [
      "Parsed 9792 nodes\n",
      "Loading files ['../Downloads/mca_dataset/Form-ADJ-help/Form_ADJ.pdf', '../Downloads/mca_dataset/Form_BEN2_help/Instruction_Kit_eForm_BEN-2.pdf', '../Downloads/mca_dataset/Form_BEN2_help/Form_BEN-2.pdf', '../Downloads/mca_dataset/Form-ADT-2-help/Form_ADT-2.pdf', '../Downloads/mca_dataset/Form-ADT-2-help/Instruction_Kit_eForm ADT-2.pdf']\n",
      "Loaded 24 docs\n"
     ]
    },
    {
     "name": "stderr",
     "output_type": "stream",
     "text": [
      "Parsing documents into nodes: 100%|████████████| 24/24 [00:00<00:00, 830.91it/s]"
     ]
    },
    {
     "name": "stdout",
     "output_type": "stream",
     "text": [
      "Parsed 24 nodes\n"
     ]
    },
    {
     "name": "stderr",
     "output_type": "stream",
     "text": [
      "\n"
     ]
    }
   ],
   "source": [
    "train_nodes = load_corpus(TRAIN_FILES, verbose=True)\n",
    "val_nodes = load_corpus(VAL_FILES, verbose=True)"
   ]
  },
  {
   "cell_type": "code",
   "execution_count": 21,
   "id": "649b4442-2ade-4773-a38f-0ebd9e211dbe",
   "metadata": {},
   "outputs": [
    {
     "ename": "ImportError",
     "evalue": "cannot import name 'OpenAIFineTuningHandler' from 'llama_index.callbacks' (/Users/aashaysachdeva/anaconda3/envs/dl_py38/lib/python3.11/site-packages/llama_index/callbacks/__init__.py)",
     "output_type": "error",
     "traceback": [
      "\u001b[0;31m---------------------------------------------------------------------------\u001b[0m",
      "\u001b[0;31mImportError\u001b[0m                               Traceback (most recent call last)",
      "Cell \u001b[0;32mIn[21], line 1\u001b[0m\n\u001b[0;32m----> 1\u001b[0m \u001b[38;5;28;01mfrom\u001b[39;00m \u001b[38;5;21;01mllama_index\u001b[39;00m\u001b[38;5;21;01m.\u001b[39;00m\u001b[38;5;21;01mfinetuning\u001b[39;00m \u001b[38;5;28;01mimport\u001b[39;00m (\n\u001b[1;32m      2\u001b[0m     generate_qa_embedding_pairs,\n\u001b[1;32m      3\u001b[0m     EmbeddingQAFinetuneDataset,\n\u001b[1;32m      4\u001b[0m )\n\u001b[1;32m      5\u001b[0m train_dataset \u001b[38;5;241m=\u001b[39m generate_qa_embedding_pairs(train_nodes)\n\u001b[1;32m      6\u001b[0m val_dataset \u001b[38;5;241m=\u001b[39m generate_qa_embedding_pairs(val_nodes)\n",
      "File \u001b[0;32m~/anaconda3/envs/dl_py38/lib/python3.11/site-packages/llama_index/finetuning/__init__.py:3\u001b[0m\n\u001b[1;32m      1\u001b[0m \u001b[38;5;124;03m\"\"\"Finetuning modules.\"\"\"\u001b[39;00m\n\u001b[0;32m----> 3\u001b[0m \u001b[38;5;28;01mfrom\u001b[39;00m \u001b[38;5;21;01mllama_index\u001b[39;00m\u001b[38;5;21;01m.\u001b[39;00m\u001b[38;5;21;01mfinetuning\u001b[39;00m\u001b[38;5;21;01m.\u001b[39;00m\u001b[38;5;21;01mopenai\u001b[39;00m\u001b[38;5;21;01m.\u001b[39;00m\u001b[38;5;21;01mbase\u001b[39;00m \u001b[38;5;28;01mimport\u001b[39;00m OpenAIFinetuneEngine\n\u001b[1;32m      4\u001b[0m \u001b[38;5;28;01mfrom\u001b[39;00m \u001b[38;5;21;01mllama_index\u001b[39;00m\u001b[38;5;21;01m.\u001b[39;00m\u001b[38;5;21;01mfinetuning\u001b[39;00m\u001b[38;5;21;01m.\u001b[39;00m\u001b[38;5;21;01membeddings\u001b[39;00m\u001b[38;5;21;01m.\u001b[39;00m\u001b[38;5;21;01msentence_transformer\u001b[39;00m \u001b[38;5;28;01mimport\u001b[39;00m (\n\u001b[1;32m      5\u001b[0m     generate_qa_embedding_pairs,\n\u001b[1;32m      6\u001b[0m     EmbeddingQAFinetuneDataset,\n\u001b[1;32m      7\u001b[0m     SentenceTransformersFinetuneEngine,\n\u001b[1;32m      8\u001b[0m )\n\u001b[1;32m     10\u001b[0m __all__ \u001b[38;5;241m=\u001b[39m [\n\u001b[1;32m     11\u001b[0m     \u001b[38;5;124m\"\u001b[39m\u001b[38;5;124mOpenAIFinetuneEngine\u001b[39m\u001b[38;5;124m\"\u001b[39m,\n\u001b[1;32m     12\u001b[0m     \u001b[38;5;124m\"\u001b[39m\u001b[38;5;124mgenerate_qa_embedding_pairs\u001b[39m\u001b[38;5;124m\"\u001b[39m,\n\u001b[1;32m     13\u001b[0m     \u001b[38;5;124m\"\u001b[39m\u001b[38;5;124mEmbeddingQAFinetuneDataset\u001b[39m\u001b[38;5;124m\"\u001b[39m,\n\u001b[1;32m     14\u001b[0m     \u001b[38;5;124m\"\u001b[39m\u001b[38;5;124mSentenceTransformersFinetuneEngine\u001b[39m\u001b[38;5;124m\"\u001b[39m,\n\u001b[1;32m     15\u001b[0m ]\n",
      "File \u001b[0;32m~/anaconda3/envs/dl_py38/lib/python3.11/site-packages/llama_index/finetuning/openai/base.py:4\u001b[0m\n\u001b[1;32m      1\u001b[0m \u001b[38;5;124;03m\"\"\"OpenAI Finetuning.\"\"\"\u001b[39;00m\n\u001b[1;32m      3\u001b[0m \u001b[38;5;28;01mfrom\u001b[39;00m \u001b[38;5;21;01mllama_index\u001b[39;00m\u001b[38;5;21;01m.\u001b[39;00m\u001b[38;5;21;01mfinetuning\u001b[39;00m\u001b[38;5;21;01m.\u001b[39;00m\u001b[38;5;21;01mtypes\u001b[39;00m \u001b[38;5;28;01mimport\u001b[39;00m BaseLLMFinetuneEngine\n\u001b[0;32m----> 4\u001b[0m \u001b[38;5;28;01mfrom\u001b[39;00m \u001b[38;5;21;01mllama_index\u001b[39;00m\u001b[38;5;21;01m.\u001b[39;00m\u001b[38;5;21;01mcallbacks\u001b[39;00m \u001b[38;5;28;01mimport\u001b[39;00m OpenAIFineTuningHandler\n\u001b[1;32m      5\u001b[0m \u001b[38;5;28;01mfrom\u001b[39;00m \u001b[38;5;21;01mllama_index\u001b[39;00m\u001b[38;5;21;01m.\u001b[39;00m\u001b[38;5;21;01mfinetuning\u001b[39;00m\u001b[38;5;21;01m.\u001b[39;00m\u001b[38;5;21;01mopenai\u001b[39;00m\u001b[38;5;21;01m.\u001b[39;00m\u001b[38;5;21;01mvalidate_json\u001b[39;00m \u001b[38;5;28;01mimport\u001b[39;00m validate_json\n\u001b[1;32m      6\u001b[0m \u001b[38;5;28;01mfrom\u001b[39;00m \u001b[38;5;21;01mtyping\u001b[39;00m \u001b[38;5;28;01mimport\u001b[39;00m Any, Optional\n",
      "\u001b[0;31mImportError\u001b[0m: cannot import name 'OpenAIFineTuningHandler' from 'llama_index.callbacks' (/Users/aashaysachdeva/anaconda3/envs/dl_py38/lib/python3.11/site-packages/llama_index/callbacks/__init__.py)"
     ]
    }
   ],
   "source": [
    "from llama_index.finetuning import (\n",
    "    generate_qa_embedding_pairs,\n",
    "    EmbeddingQAFinetuneDataset,\n",
    ")\n",
    "train_dataset = generate_qa_embedding_pairs(train_nodes)\n",
    "val_dataset = generate_qa_embedding_pairs(val_nodes)\n",
    "\n",
    "train_dataset.save_json(\"train_dataset.json\")\n",
    "val_dataset.save_json(\"val_dataset.json\")"
   ]
  },
  {
   "cell_type": "code",
   "execution_count": 20,
   "id": "c59ec896-4c0b-4406-a608-3b169fa35d07",
   "metadata": {},
   "outputs": [
    {
     "name": "stdout",
     "output_type": "stream",
     "text": [
      "Requirement already satisfied: llama-index in /Users/aashaysachdeva/anaconda3/envs/dl_py38/lib/python3.11/site-packages (0.7.8)\n",
      "Collecting llama-index\n",
      "  Obtaining dependency information for llama-index from https://files.pythonhosted.org/packages/95/57/2c175d86dd2a85eb3ad74a6fec8afb5353b326cf5eae85ede6313eb14de7/llama_index-0.8.13-py3-none-any.whl.metadata\n",
      "  Downloading llama_index-0.8.13-py3-none-any.whl.metadata (4.9 kB)\n",
      "Requirement already satisfied: tiktoken in /Users/aashaysachdeva/anaconda3/envs/dl_py38/lib/python3.11/site-packages (from llama-index) (0.4.0)\n",
      "Requirement already satisfied: dataclasses-json in /Users/aashaysachdeva/anaconda3/envs/dl_py38/lib/python3.11/site-packages (from llama-index) (0.5.9)\n",
      "Collecting langchain>=0.0.262 (from llama-index)\n",
      "  Obtaining dependency information for langchain>=0.0.262 from https://files.pythonhosted.org/packages/1d/63/1e7c55a653c93cc83b642a7cf5893a9caa4a1325c2b33bc7796bd7a0f143/langchain-0.0.276-py3-none-any.whl.metadata\n",
      "  Downloading langchain-0.0.276-py3-none-any.whl.metadata (14 kB)\n",
      "Requirement already satisfied: sqlalchemy>=2.0.15 in /Users/aashaysachdeva/anaconda3/envs/dl_py38/lib/python3.11/site-packages (from llama-index) (2.0.18)\n",
      "Requirement already satisfied: numpy in /Users/aashaysachdeva/anaconda3/envs/dl_py38/lib/python3.11/site-packages (from llama-index) (1.24.3)\n",
      "Requirement already satisfied: tenacity<9.0.0,>=8.2.0 in /Users/aashaysachdeva/anaconda3/envs/dl_py38/lib/python3.11/site-packages (from llama-index) (8.2.2)\n",
      "Requirement already satisfied: openai>=0.26.4 in /Users/aashaysachdeva/anaconda3/envs/dl_py38/lib/python3.11/site-packages (from llama-index) (0.27.8)\n",
      "Requirement already satisfied: pandas in /Users/aashaysachdeva/anaconda3/envs/dl_py38/lib/python3.11/site-packages (from llama-index) (2.0.3)\n",
      "Requirement already satisfied: urllib3<2 in /Users/aashaysachdeva/anaconda3/envs/dl_py38/lib/python3.11/site-packages (from llama-index) (1.26.16)\n",
      "Requirement already satisfied: fsspec>=2023.5.0 in /Users/aashaysachdeva/anaconda3/envs/dl_py38/lib/python3.11/site-packages (from llama-index) (2023.6.0)\n",
      "Requirement already satisfied: typing-inspect>=0.8.0 in /Users/aashaysachdeva/anaconda3/envs/dl_py38/lib/python3.11/site-packages (from llama-index) (0.8.0)\n",
      "Requirement already satisfied: typing-extensions>=4.5.0 in /Users/aashaysachdeva/anaconda3/envs/dl_py38/lib/python3.11/site-packages (from llama-index) (4.5.0)\n",
      "Requirement already satisfied: beautifulsoup4 in /Users/aashaysachdeva/anaconda3/envs/dl_py38/lib/python3.11/site-packages (from llama-index) (4.12.2)\n",
      "Requirement already satisfied: nest-asyncio in /Users/aashaysachdeva/anaconda3/envs/dl_py38/lib/python3.11/site-packages (from llama-index) (1.5.6)\n",
      "Requirement already satisfied: PyYAML>=5.3 in /Users/aashaysachdeva/anaconda3/envs/dl_py38/lib/python3.11/site-packages (from langchain>=0.0.262->llama-index) (6.0)\n",
      "Requirement already satisfied: aiohttp<4.0.0,>=3.8.3 in /Users/aashaysachdeva/anaconda3/envs/dl_py38/lib/python3.11/site-packages (from langchain>=0.0.262->llama-index) (3.8.4)\n",
      "Collecting langsmith<0.1.0,>=0.0.21 (from langchain>=0.0.262->llama-index)\n",
      "  Obtaining dependency information for langsmith<0.1.0,>=0.0.21 from https://files.pythonhosted.org/packages/2b/cb/3525fb0d1bf144840c726345a107ad35998565a05e99d4bfec755c71ffd8/langsmith-0.0.27-py3-none-any.whl.metadata\n",
      "  Downloading langsmith-0.0.27-py3-none-any.whl.metadata (10 kB)\n",
      "Requirement already satisfied: numexpr<3.0.0,>=2.8.4 in /Users/aashaysachdeva/anaconda3/envs/dl_py38/lib/python3.11/site-packages (from langchain>=0.0.262->llama-index) (2.8.4)\n",
      "Requirement already satisfied: pydantic<3,>=1 in /Users/aashaysachdeva/anaconda3/envs/dl_py38/lib/python3.11/site-packages (from langchain>=0.0.262->llama-index) (1.10.11)\n",
      "Requirement already satisfied: requests<3,>=2 in /Users/aashaysachdeva/anaconda3/envs/dl_py38/lib/python3.11/site-packages (from langchain>=0.0.262->llama-index) (2.31.0)\n",
      "Requirement already satisfied: marshmallow<4.0.0,>=3.3.0 in /Users/aashaysachdeva/anaconda3/envs/dl_py38/lib/python3.11/site-packages (from dataclasses-json->llama-index) (3.19.0)\n",
      "Requirement already satisfied: marshmallow-enum<2.0.0,>=1.5.1 in /Users/aashaysachdeva/anaconda3/envs/dl_py38/lib/python3.11/site-packages (from dataclasses-json->llama-index) (1.5.1)\n",
      "Requirement already satisfied: tqdm in /Users/aashaysachdeva/anaconda3/envs/dl_py38/lib/python3.11/site-packages (from openai>=0.26.4->llama-index) (4.65.0)\n",
      "Requirement already satisfied: mypy-extensions>=0.3.0 in /Users/aashaysachdeva/anaconda3/envs/dl_py38/lib/python3.11/site-packages (from typing-inspect>=0.8.0->llama-index) (1.0.0)\n",
      "Requirement already satisfied: soupsieve>1.2 in /Users/aashaysachdeva/anaconda3/envs/dl_py38/lib/python3.11/site-packages (from beautifulsoup4->llama-index) (2.4.1)\n",
      "Requirement already satisfied: python-dateutil>=2.8.2 in /Users/aashaysachdeva/anaconda3/envs/dl_py38/lib/python3.11/site-packages (from pandas->llama-index) (2.8.2)\n",
      "Requirement already satisfied: pytz>=2020.1 in /Users/aashaysachdeva/anaconda3/envs/dl_py38/lib/python3.11/site-packages (from pandas->llama-index) (2023.3)\n",
      "Requirement already satisfied: tzdata>=2022.1 in /Users/aashaysachdeva/anaconda3/envs/dl_py38/lib/python3.11/site-packages (from pandas->llama-index) (2023.3)\n",
      "Requirement already satisfied: regex>=2022.1.18 in /Users/aashaysachdeva/anaconda3/envs/dl_py38/lib/python3.11/site-packages (from tiktoken->llama-index) (2023.6.3)\n",
      "Requirement already satisfied: attrs>=17.3.0 in /Users/aashaysachdeva/anaconda3/envs/dl_py38/lib/python3.11/site-packages (from aiohttp<4.0.0,>=3.8.3->langchain>=0.0.262->llama-index) (23.1.0)\n",
      "Requirement already satisfied: charset-normalizer<4.0,>=2.0 in /Users/aashaysachdeva/anaconda3/envs/dl_py38/lib/python3.11/site-packages (from aiohttp<4.0.0,>=3.8.3->langchain>=0.0.262->llama-index) (3.2.0)\n",
      "Requirement already satisfied: multidict<7.0,>=4.5 in /Users/aashaysachdeva/anaconda3/envs/dl_py38/lib/python3.11/site-packages (from aiohttp<4.0.0,>=3.8.3->langchain>=0.0.262->llama-index) (6.0.4)\n",
      "Requirement already satisfied: async-timeout<5.0,>=4.0.0a3 in /Users/aashaysachdeva/anaconda3/envs/dl_py38/lib/python3.11/site-packages (from aiohttp<4.0.0,>=3.8.3->langchain>=0.0.262->llama-index) (4.0.2)\n",
      "Requirement already satisfied: yarl<2.0,>=1.0 in /Users/aashaysachdeva/anaconda3/envs/dl_py38/lib/python3.11/site-packages (from aiohttp<4.0.0,>=3.8.3->langchain>=0.0.262->llama-index) (1.9.2)\n",
      "Requirement already satisfied: frozenlist>=1.1.1 in /Users/aashaysachdeva/anaconda3/envs/dl_py38/lib/python3.11/site-packages (from aiohttp<4.0.0,>=3.8.3->langchain>=0.0.262->llama-index) (1.4.0)\n",
      "Requirement already satisfied: aiosignal>=1.1.2 in /Users/aashaysachdeva/anaconda3/envs/dl_py38/lib/python3.11/site-packages (from aiohttp<4.0.0,>=3.8.3->langchain>=0.0.262->llama-index) (1.3.1)\n",
      "Requirement already satisfied: packaging>=17.0 in /Users/aashaysachdeva/anaconda3/envs/dl_py38/lib/python3.11/site-packages (from marshmallow<4.0.0,>=3.3.0->dataclasses-json->llama-index) (23.1)\n",
      "Requirement already satisfied: six>=1.5 in /Users/aashaysachdeva/anaconda3/envs/dl_py38/lib/python3.11/site-packages (from python-dateutil>=2.8.2->pandas->llama-index) (1.16.0)\n",
      "Requirement already satisfied: idna<4,>=2.5 in /Users/aashaysachdeva/anaconda3/envs/dl_py38/lib/python3.11/site-packages (from requests<3,>=2->langchain>=0.0.262->llama-index) (3.4)\n",
      "Requirement already satisfied: certifi>=2017.4.17 in /Users/aashaysachdeva/anaconda3/envs/dl_py38/lib/python3.11/site-packages (from requests<3,>=2->langchain>=0.0.262->llama-index) (2023.5.7)\n",
      "Downloading llama_index-0.8.13-py3-none-any.whl (736 kB)\n",
      "\u001b[2K   \u001b[90m━━━━━━━━━━━━━━━━━━━━━━━━━━━━━━━━━━━━━━━━\u001b[0m \u001b[32m736.5/736.5 kB\u001b[0m \u001b[31m2.9 MB/s\u001b[0m eta \u001b[36m0:00:00\u001b[0ma \u001b[36m0:00:01\u001b[0mm\n",
      "\u001b[?25hDownloading langchain-0.0.276-py3-none-any.whl (1.6 MB)\n",
      "\u001b[2K   \u001b[90m━━━━━━━━━━━━━━━━━━━━━━━━━━━━━━━━━━━━━━━━\u001b[0m \u001b[32m1.6/1.6 MB\u001b[0m \u001b[31m9.3 MB/s\u001b[0m eta \u001b[36m0:00:00\u001b[0m00:01\u001b[0m:00:01\u001b[0m\n",
      "\u001b[?25hDownloading langsmith-0.0.27-py3-none-any.whl (34 kB)\n",
      "\u001b[33mDEPRECATION: omegaconf 2.0.6 has a non-standard dependency specifier PyYAML>=5.1.*. pip 23.3 will enforce this behaviour change. A possible replacement is to upgrade to a newer version of omegaconf or contact the author to suggest that they release a version with a conforming dependency specifiers. Discussion can be found at https://github.com/pypa/pip/issues/12063\u001b[0m\u001b[33m\n",
      "\u001b[0mInstalling collected packages: langsmith, langchain, llama-index\n",
      "  Attempting uninstall: langchain\n",
      "    Found existing installation: langchain 0.0.231\n",
      "    Uninstalling langchain-0.0.231:\n",
      "      Successfully uninstalled langchain-0.0.231\n",
      "  Attempting uninstall: llama-index\n",
      "    Found existing installation: llama-index 0.7.8\n",
      "    Uninstalling llama-index-0.7.8:\n",
      "      Successfully uninstalled llama-index-0.7.8\n",
      "Successfully installed langchain-0.0.276 langsmith-0.0.27 llama-index-0.8.13\n"
     ]
    }
   ],
   "source": [
    "!pip install --upgrade llama-index"
   ]
  },
  {
   "cell_type": "code",
   "execution_count": null,
   "id": "3e9c9731-fbd9-456d-b94e-82f872af0fa6",
   "metadata": {},
   "outputs": [],
   "source": [
    "from llama_index.finetuning import SentenceTransformersFinetuneEngine\n",
    "finetune_engine = SentenceTransformersFinetuneEngine(\n",
    "    train_dataset,\n",
    "    model_id=\"BAAI/bge-small-en\",\n",
    "    model_output_path=\"test_model\",\n",
    "    val_dataset=val_dataset,\n",
    ")\n",
    "finetune_engine.finetune()\n",
    "embed_model = finetune_engine.get_finetuned_model()\n",
    "embed_model"
   ]
  },
  {
   "cell_type": "code",
   "execution_count": null,
   "id": "92e32006-269f-444a-927d-db78b02b860b",
   "metadata": {},
   "outputs": [],
   "source": [
    "from llama_index.embeddings import OpenAIEmbedding\n",
    "from llama_index import ServiceContext, VectorStoreIndex\n",
    "from llama_index.schema import TextNode\n",
    "from tqdm.notebook import tqdm\n",
    "import pandas as pd\n",
    "\n",
    "\n",
    "def evaluate(\n",
    "    dataset,\n",
    "    embed_model,\n",
    "    top_k=5,\n",
    "    verbose=False,\n",
    "):\n",
    "    corpus = dataset.corpus\n",
    "    queries = dataset.queries\n",
    "    relevant_docs = dataset.relevant_docs\n",
    "\n",
    "    service_context = ServiceContext.from_defaults(embed_model=embed_model)\n",
    "    nodes = [TextNode(id_=id_, text=text) for id_, text in corpus.items()]\n",
    "    index = VectorStoreIndex(nodes, service_context=service_context, show_progress=True)\n",
    "    retriever = index.as_retriever(similarity_top_k=top_k)\n",
    "\n",
    "    eval_results = []\n",
    "    for query_id, query in tqdm(queries.items()):\n",
    "        retrieved_nodes = retriever.retrieve(query)\n",
    "        retrieved_ids = [node.node.node_id for node in retrieved_nodes]\n",
    "        expected_id = relevant_docs[query_id][0]\n",
    "        is_hit = expected_id in retrieved_ids  # assume 1 relevant doc\n",
    "\n",
    "        eval_result = {\n",
    "            \"is_hit\": is_hit,\n",
    "            \"retrieved\": retrieved_ids,\n",
    "            \"expected\": expected_id,\n",
    "            \"query\": query_id,\n",
    "        }\n",
    "        eval_results.append(eval_result)\n",
    "    return eval_results"
   ]
  },
  {
   "cell_type": "code",
   "execution_count": null,
   "id": "a234f225-6239-4f26-9bf7-beb54cbcc903",
   "metadata": {},
   "outputs": [],
   "source": [
    "from sentence_transformers.evaluation import InformationRetrievalEvaluator\n",
    "from sentence_transformers import SentenceTransformer\n",
    "\n",
    "\n",
    "def evaluate_st(\n",
    "    dataset,\n",
    "    model_id,\n",
    "    name,\n",
    "):\n",
    "    corpus = dataset.corpus\n",
    "    queries = dataset.queries\n",
    "    relevant_docs = dataset.relevant_docs\n",
    "\n",
    "    evaluator = InformationRetrievalEvaluator(queries, corpus, relevant_docs, name=name)\n",
    "    model = SentenceTransformer(model_id)\n",
    "    return evaluator(model, output_path=\"results/\")"
   ]
  },
  {
   "cell_type": "code",
   "execution_count": null,
   "id": "df5a36b8-5bca-4806-9069-e775bd67ec3a",
   "metadata": {},
   "outputs": [],
   "source": [
    "ada = OpenAIEmbedding()\n",
    "ada_val_results = evaluate(val_dataset, ada)\n",
    "df_ada = pd.DataFrame(ada_val_results)\n",
    "hit_rate_ada = df_ada[\"is_hit\"].mean()\n",
    "\n",
    "\n"
   ]
  },
  {
   "cell_type": "code",
   "execution_count": null,
   "id": "01c727c0-d6ad-44a4-b8ca-ffe7bfb5fc2a",
   "metadata": {},
   "outputs": [],
   "source": [
    "bge = \"local:BAAI/bge-small-en\"\n",
    "bge_val_results = evaluate(val_dataset, bge)\n",
    "df_bge = pd.DataFrame(bge_val_results)\n",
    "hit_rate_bge = df_bge[\"is_hit\"].mean()\n",
    "\n",
    "evaluate_st(val_dataset, \"BAAI/bge-small-en\", name=\"bge\")"
   ]
  },
  {
   "cell_type": "code",
   "execution_count": null,
   "id": "c04c180b-25f7-4f22-b7f0-43fa82602e6f",
   "metadata": {},
   "outputs": [],
   "source": []
  }
 ],
 "metadata": {
  "kernelspec": {
   "display_name": "Python 3 (ipykernel)",
   "language": "python",
   "name": "python3"
  },
  "language_info": {
   "codemirror_mode": {
    "name": "ipython",
    "version": 3
   },
   "file_extension": ".py",
   "mimetype": "text/x-python",
   "name": "python",
   "nbconvert_exporter": "python",
   "pygments_lexer": "ipython3",
   "version": "3.11.4"
  }
 },
 "nbformat": 4,
 "nbformat_minor": 5
}
